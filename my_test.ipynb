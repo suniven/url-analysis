{
 "cells": [
  {
   "cell_type": "code",
   "execution_count": 14,
   "metadata": {},
   "outputs": [],
   "source": [
    "import requests\n",
    "import socket\n",
    "socket.setdefaulttimeout(10)\n",
    "headers = {\n",
    "    \"user-agent\":\n",
    "    \"Mozilla/5.0 (Windows NT 10.0; Win64; x64) AppleWebKit/537.36 (KHTML, like Gecko) Chrome/104.0.0.0 Safari/537.36\"\n",
    "}\n",
    "proxies = {'http': 'http://127.0.0.1:1080', 'https': 'http://127.0.0.1:1080'}\n",
    "# res=requests.get('https://s3.radio.co/s88a4e6dbe/listen', proxies=proxies, headers=headers, timeout=(8,8))\n",
    "res = requests.get('https://www.ultraalgo.com/?afmc=LeeSinTrade', proxies=proxies, headers=headers, timeout=(5, 8))"
   ]
  },
  {
   "cell_type": "code",
   "execution_count": 15,
   "metadata": {},
   "outputs": [
    {
     "data": {
      "text/plain": [
       "'https://www.ultraalgo.com/?afmc=LeeSinTrade'"
      ]
     },
     "execution_count": 15,
     "metadata": {},
     "output_type": "execute_result"
    }
   ],
   "source": [
    "res.url"
   ]
  }
 ],
 "metadata": {
  "kernelspec": {
   "display_name": "Python 3.8.12 ('py38')",
   "language": "python",
   "name": "python3"
  },
  "language_info": {
   "codemirror_mode": {
    "name": "ipython",
    "version": 3
   },
   "file_extension": ".py",
   "mimetype": "text/x-python",
   "name": "python",
   "nbconvert_exporter": "python",
   "pygments_lexer": "ipython3",
   "version": "3.8.12"
  },
  "orig_nbformat": 4,
  "vscode": {
   "interpreter": {
    "hash": "aef1b1a3732fc5e65c852b8ce7773114d777f0f26fa8518baff740de7d177da9"
   }
  }
 },
 "nbformat": 4,
 "nbformat_minor": 2
}
