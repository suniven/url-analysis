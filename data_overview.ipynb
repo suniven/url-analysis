{
 "cells": [
  {
   "cell_type": "code",
   "execution_count": 1,
   "metadata": {
    "collapsed": true
   },
   "outputs": [],
   "source": [
    "import pandas as pd\n",
    "import matplotlib.pyplot as plt\n",
    "import numpy as np"
   ]
  },
  {
   "cell_type": "code",
   "execution_count": 2,
   "metadata": {},
   "outputs": [],
   "source": [
    "csv_file_path = './urls_unique_filter.csv'\n",
    "url_df = pd.read_csv(csv_file_path, encoding='utf-8', engine='python')"
   ]
  },
  {
   "cell_type": "code",
   "execution_count": 3,
   "metadata": {},
   "outputs": [
    {
     "data": {
      "text/plain": [
       "54472"
      ]
     },
     "execution_count": 3,
     "metadata": {},
     "output_type": "execute_result"
    }
   ],
   "source": [
    "url_df.shape[0]"
   ]
  },
  {
   "cell_type": "code",
   "execution_count": 4,
   "metadata": {},
   "outputs": [
    {
     "data": {
      "text/plain": [
       "12125"
      ]
     },
     "execution_count": 4,
     "metadata": {},
     "output_type": "execute_result"
    }
   ],
   "source": [
    "url_df['domain'].nunique()"
   ]
  },
  {
   "cell_type": "code",
   "execution_count": 5,
   "metadata": {},
   "outputs": [
    {
     "data": {
      "text/plain": [
       "bit.ly                    4627\n",
       "posh.mk                   2004\n",
       "ow.ly                     1800\n",
       "dlvr.it                   1712\n",
       "amzn.to                   1491\n",
       "amazon.com                1321\n",
       "ift.tt                    1315\n",
       "co.jp                     1132\n",
       "buff.ly                    897\n",
       "tubebular.com              864\n",
       "co.uk                      685\n",
       "lnkd.in                    556\n",
       "myf.mg                     449\n",
       "tinyurl.com                387\n",
       "blogspot.com               338\n",
       "tkpl.us                    330\n",
       "is.gd                      316\n",
       "com.au                     291\n",
       "northwesternmutual.com     290\n",
       "fkd.sale                   263\n",
       "Name: domain, dtype: int64"
      ]
     },
     "execution_count": 5,
     "metadata": {},
     "output_type": "execute_result"
    }
   ],
   "source": [
    "url_df['domain'].value_counts().head(20)"
   ]
  },
  {
   "cell_type": "code",
   "execution_count": null,
   "metadata": {},
   "outputs": [],
   "source": []
  }
 ],
 "metadata": {
  "kernelspec": {
   "display_name": "Python 3.8.12 ('py38')",
   "language": "python",
   "name": "python3"
  },
  "language_info": {
   "codemirror_mode": {
    "name": "ipython",
    "version": 3
   },
   "file_extension": ".py",
   "mimetype": "text/x-python",
   "name": "python",
   "nbconvert_exporter": "python",
   "pygments_lexer": "ipython3",
   "version": "3.8.12"
  },
  "vscode": {
   "interpreter": {
    "hash": "aef1b1a3732fc5e65c852b8ce7773114d777f0f26fa8518baff740de7d177da9"
   }
  }
 },
 "nbformat": 4,
 "nbformat_minor": 0
}
